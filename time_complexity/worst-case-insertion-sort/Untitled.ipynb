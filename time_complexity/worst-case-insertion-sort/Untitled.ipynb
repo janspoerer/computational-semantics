{
 "cells": [
  {
   "cell_type": "code",
   "execution_count": 11,
   "metadata": {},
   "outputs": [
    {
     "name": "stdout",
     "output_type": "stream",
     "text": [
      "0.00014019012451171875\n",
      "0.005862236022949219\n",
      "0.6344144344329834\n",
      "2.4304206371307373\n",
      "5.645168304443359\n"
     ]
    },
    {
     "data": {
      "image/png": "[encoded data removed]",
      "text/plain": [
       "<Figure size 432x288 with 1 Axes>"
      ]
     },
     "metadata": {},
     "output_type": "display_data"
    }
   ],
   "source": [
    "import random\n",
    "import time\n",
    "import matplotlib.pyplot as plt\n",
    "\n",
    "results = []\n",
    "decksizes = [10, 100, 1000, 2000, 3000]\n",
    "repetition_limit = 10\n",
    "\n",
    "def sort_list( state, ascending = True ):\n",
    "    j = 1\n",
    "    for j in range( j, len(state) ):\n",
    "        key = state[j]\n",
    "        i = j - 1\n",
    "        if ascending:\n",
    "            while i >= 0 and state[i] > key:\n",
    "                state[i + 1] = state[i]\n",
    "                i = i - 1\n",
    "        else:\n",
    "            while i >= 0 and state[i] < key:\n",
    "                state[i + 1] = state[i]\n",
    "                i = i - 1\n",
    "        state[i + 1] = key\n",
    "\n",
    "def track_time_complexity( decksizes, repetition_limit ):\n",
    "    for n in range(0, len( decksizes )):\n",
    "        sum = 0\n",
    "        for repetition in range( 1, repetition_limit ):\n",
    "            state = list( reversed( range( decksizes[n] ) ) )\n",
    "            \n",
    "            start = time.time()\n",
    "            sort_list( state )\n",
    "            sum = sum + ( time.time() - start )\n",
    "        average = sum / repetition_limit\n",
    "        print( sum )\n",
    "        results.append ( average )\n",
    "    return results\n",
    "\n",
    "results = track_time_complexity( decksizes, repetition_limit )\n",
    "\n",
    "plt.plot( results )\n",
    "plt.ylabel( 'time complexity' )\n",
    "plt.show()"
   ]
  },
  {
   "cell_type": "code",
   "execution_count": null,
   "metadata": {},
   "outputs": [],
   "source": []
  }
 ],
 "metadata": {
  "kernelspec": {
   "display_name": "Python 3",
   "language": "python",
   "name": "python3"
  },
  "language_info": {
   "codemirror_mode": {
    "name": "ipython",
    "version": 3
   },
   "file_extension": ".py",
   "mimetype": "text/x-python",
   "name": "python",
   "nbconvert_exporter": "python",
   "pygments_lexer": "ipython3",
   "version": "3.6.5"
  }
 },
 "nbformat": 4,
 "nbformat_minor": 2
}
