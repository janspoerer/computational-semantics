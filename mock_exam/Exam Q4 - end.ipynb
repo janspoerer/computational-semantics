{
 "cells": [
  {
   "cell_type": "markdown",
   "id": "c330baf8",
   "metadata": {},
   "source": [
    "## Q3 Print out all Fibonacci number smaller or equal to a given number"
   ]
  },
  {
   "cell_type": "code",
   "execution_count": 19,
   "id": "fc54691a",
   "metadata": {
    "scrolled": true
   },
   "outputs": [
    {
     "name": "stdout",
     "output_type": "stream",
     "text": [
      "[0, 1, 1, 2, 3, 5, 8]\n"
     ]
    }
   ],
   "source": [
    "\"\"\"\n",
    "Print out all Fibonacci numbers smaller or equal to a given number\n",
    "Given a positive number, print out all Fibonacci numbers smaller or equal to that number.\n",
    "For example, given the number 11 the program should print out: 1 1 2 3 5 8\n",
    "The next Fibonacci number would be 13 which is already larger than 11.\n",
    "\"\"\"\n",
    "def print_fibonacci_below_or_equal(maximum_integer):\n",
    "    # We use a zero at the beginning because Wikipedia says so. Even though the assignment text says otherwise.\n",
    "    list_of_fibonacci_numbers = [0, 1]\n",
    "    \n",
    "    if maximum_integer > 0:\n",
    "        next_fibonacci = 1\n",
    "        while next_fibonacci <= maximum_integer:\n",
    "            # (list_of_fibonacci_numbers[-1] + list_of_fibonacci_numbers[-2]) > maximum_integer:\n",
    "\n",
    "            list_of_fibonacci_numbers.append(next_fibonacci)\n",
    "            next_fibonacci = list_of_fibonacci_numbers[-2] + next_fibonacci\n",
    "            \"\"\"\n",
    "            if :\n",
    "                break\n",
    "            else:\n",
    "                list_of_fibonacci_numbers.append(list_of_fibonacci_numbers[-1] + list_of_fibonacci_numbers[-2])\n",
    "            \"\"\"\n",
    "\n",
    "        print(list_of_fibonacci_numbers)\n",
    "    else:\n",
    "        print(f\"Wrong input! Number is negative or zero: {maximum_integer}.\")\n",
    "\n",
    "print_fibonacci_below_or_equal(11)\n",
    "\n",
    "# [\"a\", \"b\"]\n",
    "#   0    1   -> Coming from the left\n",
    "#  -2   -1   -> Coming from the right (reverse indexing)"
   ]
  },
  {
   "cell_type": "code",
   "execution_count": 17,
   "id": "2b1042ba",
   "metadata": {},
   "outputs": [
    {
     "name": "stdout",
     "output_type": "stream",
     "text": [
      "Wrong input! Number is negative: 0.\n"
     ]
    }
   ],
   "source": [
    "print_fibonacci_below_or_equal(0)"
   ]
  },
  {
   "cell_type": "markdown",
   "id": "4f6c23b0",
   "metadata": {},
   "source": [
    "## Q4: Determine if a sequence of numbers is increasing\n",
    "Given a sequence of numbers, determine if each element is larger than the previous element"
   ]
  },
  {
   "cell_type": "code",
   "execution_count": 29,
   "id": "6b56471a",
   "metadata": {},
   "outputs": [
    {
     "name": "stdout",
     "output_type": "stream",
     "text": [
      "i: 0\n",
      "list_of_numbers: [1, 2, 2]\n",
      "i: 1\n",
      "list_of_numbers: [1, 2, 2]\n"
     ]
    },
    {
     "data": {
      "text/plain": [
       "False"
      ]
     },
     "execution_count": 29,
     "metadata": {},
     "output_type": "execute_result"
    }
   ],
   "source": [
    "def is_ascending(list_of_numbers):\n",
    "    # Optional: Argument checking (should all be numbers)\n",
    "    sum(list_of_numbers) # n\n",
    "    \n",
    "    # Another argument check: List must at least have two elements\n",
    "    if len(list_of_numbers) < 2:\n",
    "        print(\"Problem. Number too small.\")\n",
    "        return None\n",
    "    \n",
    "    i = 0\n",
    "    while i < (len(list_of_numbers) - 1): # n\n",
    "        print(f\"i: {i}\")\n",
    "        print(f\"list_of_numbers: {list_of_numbers}\")\n",
    "        if list_of_numbers[i] >= list_of_numbers[i+1]:\n",
    "            return False\n",
    "        i += 1 # i = i + 1\n",
    "    \n",
    "    return True\n",
    "\n",
    "is_ascending([1, 2, 2]) # -> False"
   ]
  },
  {
   "cell_type": "code",
   "execution_count": 28,
   "id": "1276ac1f",
   "metadata": {},
   "outputs": [
    {
     "name": "stdout",
     "output_type": "stream",
     "text": [
      "i: 0\n",
      "list_of_numbers: [1, 2, 3]\n",
      "i: 1\n",
      "list_of_numbers: [1, 2, 3]\n"
     ]
    },
    {
     "data": {
      "text/plain": [
       "True"
      ]
     },
     "execution_count": 28,
     "metadata": {},
     "output_type": "execute_result"
    }
   ],
   "source": [
    "is_ascending([1, 2, 3]) # -> True"
   ]
  },
  {
   "cell_type": "code",
   "execution_count": 26,
   "id": "86111b6f",
   "metadata": {},
   "outputs": [
    {
     "name": "stdout",
     "output_type": "stream",
     "text": [
      "i: 0\n",
      "list_of_numbers: [1, 2, 2000]\n",
      "i: 1\n",
      "list_of_numbers: [1, 2, 2000]\n"
     ]
    },
    {
     "data": {
      "text/plain": [
       "True"
      ]
     },
     "execution_count": 26,
     "metadata": {},
     "output_type": "execute_result"
    }
   ],
   "source": [
    "is_ascending([1, 2, 2000]) # -> True"
   ]
  },
  {
   "cell_type": "code",
   "execution_count": 27,
   "id": "281205dc",
   "metadata": {},
   "outputs": [
    {
     "name": "stdout",
     "output_type": "stream",
     "text": [
      "i: 0\n",
      "list_of_numbers: [1000, 2, 2]\n"
     ]
    },
    {
     "data": {
      "text/plain": [
       "False"
      ]
     },
     "execution_count": 27,
     "metadata": {},
     "output_type": "execute_result"
    }
   ],
   "source": [
    "is_ascending([1000, 2, 2]) # -> False"
   ]
  },
  {
   "cell_type": "markdown",
   "id": "c144b402",
   "metadata": {},
   "source": [
    "## Q5 Determine the longest sequence of increasing numbers in a list of numbers\n",
    "Given a sequence of numbers, determine the longest streak of consecutive numbers that are\n",
    "increasing. For example given the sequence [1, 2, 5, 3, 8, 9, 13, 24, 21], the longest sequence\n",
    "is [3, 8, 9, 13, 24]."
   ]
  },
  {
   "cell_type": "code",
   "execution_count": 70,
   "id": "58d73836",
   "metadata": {},
   "outputs": [
    {
     "name": "stdout",
     "output_type": "stream",
     "text": [
      "longest_list_of_increasing_numbers: [1, 2, 3]\n",
      "longest_list_of_increasing_numbers: [1, 2, 3, 4]\n",
      "[1, 2, 3, 4]\n",
      "End\n"
     ]
    }
   ],
   "source": [
    "def get_longest_list_of_increasing_numbers(list_of_numbers):\n",
    "    # Optional: Argument checking (should all be numbers)\n",
    "    # I assume that this function has to loop over all elements and add them, leading to 0(n)\n",
    "    sum(list_of_numbers) # n\n",
    "    \n",
    "    # Another argument check: List must at least have two elements\n",
    "    if len(list_of_numbers) < 2:\n",
    "        print(\"Problem. Number too small.\")\n",
    "        return None\n",
    "    \n",
    "    i = 0\n",
    "    start_of_sublist = 0\n",
    "    longest_list_of_increasing_numbers = []\n",
    "    # [1, 2, 5, 3, 8, 9, 13, 24, 21, 1, 2, 3, 4, 5, 6, 7]\n",
    "    \n",
    "    # The time complexity of the algorithm has the following constiuents:\n",
    "    # while loop: n - 1 (simplies to n)\n",
    "    while i < (len(list_of_numbers) - 1): # n - 1\n",
    "        \n",
    "        # Break of the ascent\n",
    "        if list_of_numbers[i] >= list_of_numbers[i+1]: # 1 op\n",
    "            # Check current list and overwrite if necessary\n",
    "            \n",
    "            new_list = list_of_numbers[start_of_sublist:i+1] # about n/4 -> Depends very strongly on how the list is sorted.\n",
    "            # -> Simplies to n\n",
    "            \n",
    "            if len(longest_list_of_increasing_numbers) < len(new_list): \n",
    "                longest_list_of_increasing_numbers = new_list # Overwrite\n",
    "\n",
    "                print(f\"longest_list_of_increasing_numbers: {longest_list_of_increasing_numbers}\")\n",
    "                \n",
    "            start_of_sublist = i + 1\n",
    "            \n",
    "        i += 1\n",
    "        \n",
    "    \"\"\"\n",
    "    The time complexity of this algorithm is about n².\n",
    "    \n",
    "    There is a block of code below the while loop that will have linear time complexity (about n/4), but\n",
    "    I neglect this block for simplicity and because it does not change the time complexity when n -> infinity.\n",
    "    \n",
    "    Also, I made some simplifications within the while loop. The true time complexity might be closer to n²/4 \n",
    "    + some constant, but the n² dominates the calculation.\n",
    "    \"\"\"\n",
    "\n",
    "        \n",
    "    # Check current list and overwrite if necessary\n",
    "    new_list = list_of_numbers[start_of_sublist:i+1] # n/4\n",
    "    if len(longest_list_of_increasing_numbers) < len(new_list):\n",
    "        longest_list_of_increasing_numbers = new_list # Overwrite\n",
    "\n",
    "        print(f\"longest_list_of_increasing_numbers: {longest_list_of_increasing_numbers}\")\n",
    "         \n",
    "    return longest_list_of_increasing_numbers\n",
    "\n",
    "print(get_longest_list_of_increasing_numbers([1, 2, 3, 1, 2, 3, 4, 1, 2]))\n",
    "print(\"End\")"
   ]
  },
  {
   "cell_type": "code",
   "execution_count": null,
   "id": "eda32692",
   "metadata": {},
   "outputs": [],
   "source": []
  }
 ],
 "metadata": {
  "kernelspec": {
   "display_name": "Python 3 (ipykernel)",
   "language": "python",
   "name": "python3"
  },
  "language_info": {
   "codemirror_mode": {
    "name": "ipython",
    "version": 3
   },
   "file_extension": ".py",
   "mimetype": "text/x-python",
   "name": "python",
   "nbconvert_exporter": "python",
   "pygments_lexer": "ipython3",
   "version": "3.9.13"
  },
  "toc": {
   "base_numbering": 1,
   "nav_menu": {},
   "number_sections": true,
   "sideBar": true,
   "skip_h1_title": false,
   "title_cell": "Table of Contents",
   "title_sidebar": "Contents",
   "toc_cell": false,
   "toc_position": {},
   "toc_section_display": true,
   "toc_window_display": false
  }
 },
 "nbformat": 4,
 "nbformat_minor": 5
}
